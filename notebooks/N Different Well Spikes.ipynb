{
 "cells": [
  {
   "cell_type": "code",
   "execution_count": 1,
   "metadata": {},
   "outputs": [],
   "source": [
    "import numpy as np\n",
    "import sympy as sm\n"
   ]
  },
  {
   "cell_type": "markdown",
   "metadata": {},
   "source": [
    "The Problem\n",
    "------------------\n",
    "Assume a series of *n* different potentials, where $V(x) = V_0 \\iff x<L_0; ~ V(x) = V_j \\iff L_{j-1} < x < L_{j}; ~ V(x) = V_n \\iff L_{n-1} < x$.\n",
    "\n",
    "Assume a particle is incident from the left moving towards the right with incident energy $E$ and incident wave coefficient $F_0$. \n",
    "\n",
    "We want to find the different wavefunctions $\\psi_j$ for the *n* different regions."
   ]
  },
  {
   "cell_type": "markdown",
   "metadata": {},
   "source": [
    "Initial Knowledge\n",
    "-----------\n",
    "We know that each section $j$ will have some proportion transmitted and some reflected, IE $\\psi_j = F_je^{ik_jx} + R_je^{-ik_jx}$. \n",
    "Using the Schrodinger Equation $-\\frac{\\hbar^2}{2m}\\psi_j + V_j\\psi_j = E\\psi_j$, we can also see that $k_j = \\sqrt{\\frac{2m(E - V_j)}{\\hbar^2}}$.\n",
    "\n",
    "Since wave equations must be continious and continiously differentiable, we know that $\\psi_j(L_j) = \\psi_{j+1}(L_j)$ and $\\frac{\\partial \\psi_j}{\\partial x}(L_j) = \\frac{\\partial \\psi_{j+1}}{\\partial x}(L_j)$.\n"
   ]
  },
  {
   "cell_type": "markdown",
   "metadata": {},
   "source": [
    "Finding the Constraints\n",
    "-------------\n",
    "This quickly reduces to a system of linear equations of size $2n$, due to having $n$ separate regions containing 2 separate wave directions each.\n",
    "\n",
    "For border $j \\le n-1$, we get the system of equations:\n",
    "\n",
    "$$\\begin{align}\n",
    "F_je^{ik_jL_j} + R_je^{-ik_jL_j} &= F_{j+1}e^{ik_{j+1}L_j} + R_{j+1}e^{-ik_{j+1}L_j} \\\\\n",
    "ik_jF_je^{ik_jL_j} - ik_jR_je^{-ik_jL_j} &= ik_{j+1}F_{j+1}e^{ik_{j+1}L_j} - ik_{j+1}R_{j+1}e^{-ik_{j+1}L_j} \\\\\n",
    "\\\\\n",
    "\\end{align}\n",
    "$$\n",
    "\n",
    "Producing the matrix equation:\n",
    "\n",
    "$$\n",
    "\\begin{align}\n",
    "\\left[\\begin{matrix}\n",
    "e^{ik_jL_j} & e^{-ik_jL_j} & -e^{ik_{j+1}L_j} & -e^{-ik_{j+1}L_j} \\\\\n",
    "ik_je^{ik_jL_j} & -ik_je^{-ik_jL_j} & -ik_{j+1}e^{ik_{j+1}L_j} & ik_{j+1}e^{-ik_{j+1}L_j} \\\\\n",
    "\\end{matrix}\\right]\n",
    "\\left[\\begin{matrix}\n",
    "F_j \\\\\n",
    "R_j \\\\\n",
    "F_{j+1}\\\\\n",
    "R_{j+1}\\\\\n",
    "\\end{matrix}\\right]\n",
    "&=\n",
    "\\left[\\begin{matrix}0 \\\\ 0 \\\\ \\end{matrix}\\right]\n",
    "\\end{align}$$\n",
    "\n",
    "The last 2 equations are simply \n",
    "\n",
    "$$ R_n = 0$$\n",
    "$$ F_0 = F_0$$\n",
    "\n",
    "due to the fact that no negative-momentum particles should exist coming from the farthest region and because the coefficient of the incident wave is determined by the incident wave itself."
   ]
  },
  {
   "cell_type": "markdown",
   "metadata": {},
   "source": [
    "Constructing the Coefficient Matrix\n",
    "----------------\n",
    "To get a general coefficient matrix, we can use Sympy to generate the submatricies and concat them into a single large coefficient matrix.\n",
    "\n",
    "First we set up the Sympy environment:\n"
   ]
  },
  {
   "cell_type": "code",
   "execution_count": 2,
   "metadata": {},
   "outputs": [],
   "source": [
    "import scipy as sp\n",
    "\n",
    "sm.init_printing()"
   ]
  },
  {
   "cell_type": "markdown",
   "metadata": {},
   "source": [
    "Then create a function for $k$:"
   ]
  },
  {
   "cell_type": "code",
   "execution_count": 84,
   "metadata": {},
   "outputs": [],
   "source": [
    "hbar = sm.Symbol('\\hbar', positive=True, real=True) #Displays correctly in latex\n",
    "\n",
    "def k(m, E, V, use_k_as_symbol=True):\n",
    "    if(use_k_as_symbol):\n",
    "        ind = str(V)[str(V).find('_'):] #Get the index of V\n",
    "        return sm.Symbol('k_{' +ind+'}') \n",
    "    else:\n",
    "        return sm.sqrt(2) * sm.sqrt(m * (E - V + 0j)/hbar**2)"
   ]
  },
  {
   "cell_type": "markdown",
   "metadata": {},
   "source": [
    "Then we create a function to generate a submatrix from given parameters:"
   ]
  },
  {
   "cell_type": "code",
   "execution_count": 85,
   "metadata": {},
   "outputs": [],
   "source": [
    "\n",
    "def gen_submatrix(V, L, E, m, j, use_k_as_symbol=True):\n",
    "    assert len(V) == len(L) + 1, \"Bad dimmensions\" # Gurantee dimensions\n",
    "    \n",
    "    L_j = L[j] #The current border\n",
    "    k_j = k(m, E, V[j], use_k_as_symbol) #The lower wavenumber\n",
    "    k_j1 = k(m, E, V[j+1], use_k_as_symbol) #The higher wavenumber\n",
    "    \n",
    "    offset = j*2 #How many columns deep into the matrix we put the submatrix\n",
    "\n",
    "    \n",
    "    mat = sm.zeros(2,len(V)*2) #Initialize the return matrix\n",
    "    \n",
    "    \n",
    "    #Set the entries for the 0th order equation\n",
    "    mat[0, offset + 0] = sm.exp(1j * k_j * L_j)\n",
    "    mat[0, offset + 1] = sm.exp(-1j * k_j * L_j)\n",
    "    mat[0, offset + 2] = -sm.exp(1j * k_j1 * L_j)\n",
    "    mat[0, offset + 3] = -sm.exp(-1j * k_j1 * L_j)\n",
    "    \n",
    "    #Set the entries for the 1st order equation\n",
    "    mat[1, offset + 0] = 1j * k_j * sm.exp(1j * k_j * L_j)\n",
    "    mat[1, offset + 1] = -1j * k_j *sm.exp(-1j * k_j * L_j)\n",
    "    mat[1, offset + 2] = -1j * k_j1 * sm.exp(1j * k_j1 * L_j)\n",
    "    mat[1, offset + 3] = 1j * k_j1 *sm.exp(-1j * k_j1 * L_j)\n",
    "    \n",
    "    return mat\n",
    "    "
   ]
  },
  {
   "cell_type": "markdown",
   "metadata": {},
   "source": [
    "And finally a way to combine them into a single, huge matrix:"
   ]
  },
  {
   "cell_type": "code",
   "execution_count": 86,
   "metadata": {},
   "outputs": [],
   "source": [
    "\n",
    "def gen_matrix(V, L, E, m, use_k_as_symbol=False):\n",
    "    \n",
    "    coeffs = [] #Output buffer\n",
    "    n = len(V) #Number of regions\n",
    "\n",
    "    \n",
    "    #Build the coefficient matrix for the boundary F_0 = F_0\n",
    "    first = sm.zeros(1, n*2)\n",
    "    first[0] = 1\n",
    "    \n",
    "    #Build the coefficient matrix for the boundary R_n = 0\n",
    "    last = sm.zeros(1, n*2)\n",
    "    last[n*2 -1] = 1\n",
    "    \n",
    "    \n",
    "    for j in range(0, n-1):\n",
    "        submat = gen_submatrix(V, L, E, m, j, use_k_as_symbol)\n",
    "        coeffs.append(submat[0, :]) #Add the 0th order to the buffer\n",
    "        coeffs.append(submat[1, :]) #Add the 1st order to the buffer\n",
    "    \n",
    "    #Add the border conditions to the end\n",
    "    coeffs.append(first)\n",
    "    coeffs.append(last)\n",
    "    \n",
    "    return sm.Matrix(coeffs) #Convert to sympy matrix"
   ]
  },
  {
   "cell_type": "markdown",
   "metadata": {},
   "source": [
    "For example, if we had 4 different potentials $V_1 \\dots V_{4}$ with 3 borders $L_1 \\dots L_3$:"
   ]
  },
  {
   "cell_type": "code",
   "execution_count": 87,
   "metadata": {},
   "outputs": [
    {
     "data": {
      "text/latex": [
       "$$\\left[\\begin{matrix}e^{\\frac{1.0 i}{\\hbar} \\sqrt{2} L_{1} \\sqrt{m \\left(E - V_{1}\\right)}} & e^{- \\frac{1.0 i}{\\hbar} \\sqrt{2} L_{1} \\sqrt{m \\left(E - V_{1}\\right)}} & - e^{\\frac{1.0 i}{\\hbar} \\sqrt{2} L_{1} \\sqrt{m \\left(E - V_{2}\\right)}} & - e^{- \\frac{1.0 i}{\\hbar} \\sqrt{2} L_{1} \\sqrt{m \\left(E - V_{2}\\right)}} & 0 & 0 & 0 & 0\\\\\\frac{1.0 i}{\\hbar} \\sqrt{2} \\sqrt{m \\left(E - V_{1}\\right)} e^{\\frac{1.0 i}{\\hbar} \\sqrt{2} L_{1} \\sqrt{m \\left(E - V_{1}\\right)}} & - \\frac{1.0 i}{\\hbar} \\sqrt{2} \\sqrt{m \\left(E - V_{1}\\right)} e^{- \\frac{1.0 i}{\\hbar} \\sqrt{2} L_{1} \\sqrt{m \\left(E - V_{1}\\right)}} & - \\frac{1.0 i}{\\hbar} \\sqrt{2} \\sqrt{m \\left(E - V_{2}\\right)} e^{\\frac{1.0 i}{\\hbar} \\sqrt{2} L_{1} \\sqrt{m \\left(E - V_{2}\\right)}} & \\frac{1.0 i}{\\hbar} \\sqrt{2} \\sqrt{m \\left(E - V_{2}\\right)} e^{- \\frac{1.0 i}{\\hbar} \\sqrt{2} L_{1} \\sqrt{m \\left(E - V_{2}\\right)}} & 0 & 0 & 0 & 0\\\\0 & 0 & e^{\\frac{1.0 i}{\\hbar} \\sqrt{2} L_{2} \\sqrt{m \\left(E - V_{2}\\right)}} & e^{- \\frac{1.0 i}{\\hbar} \\sqrt{2} L_{2} \\sqrt{m \\left(E - V_{2}\\right)}} & - e^{\\frac{1.0 i}{\\hbar} \\sqrt{2} L_{2} \\sqrt{m \\left(E - V_{3}\\right)}} & - e^{- \\frac{1.0 i}{\\hbar} \\sqrt{2} L_{2} \\sqrt{m \\left(E - V_{3}\\right)}} & 0 & 0\\\\0 & 0 & \\frac{1.0 i}{\\hbar} \\sqrt{2} \\sqrt{m \\left(E - V_{2}\\right)} e^{\\frac{1.0 i}{\\hbar} \\sqrt{2} L_{2} \\sqrt{m \\left(E - V_{2}\\right)}} & - \\frac{1.0 i}{\\hbar} \\sqrt{2} \\sqrt{m \\left(E - V_{2}\\right)} e^{- \\frac{1.0 i}{\\hbar} \\sqrt{2} L_{2} \\sqrt{m \\left(E - V_{2}\\right)}} & - \\frac{1.0 i}{\\hbar} \\sqrt{2} \\sqrt{m \\left(E - V_{3}\\right)} e^{\\frac{1.0 i}{\\hbar} \\sqrt{2} L_{2} \\sqrt{m \\left(E - V_{3}\\right)}} & \\frac{1.0 i}{\\hbar} \\sqrt{2} \\sqrt{m \\left(E - V_{3}\\right)} e^{- \\frac{1.0 i}{\\hbar} \\sqrt{2} L_{2} \\sqrt{m \\left(E - V_{3}\\right)}} & 0 & 0\\\\0 & 0 & 0 & 0 & e^{\\frac{1.0 i}{\\hbar} \\sqrt{2} L_{3} \\sqrt{m \\left(E - V_{3}\\right)}} & e^{- \\frac{1.0 i}{\\hbar} \\sqrt{2} L_{3} \\sqrt{m \\left(E - V_{3}\\right)}} & - e^{\\frac{1.0 i}{\\hbar} \\sqrt{2} L_{3} \\sqrt{m \\left(E - V_{4}\\right)}} & - e^{- \\frac{1.0 i}{\\hbar} \\sqrt{2} L_{3} \\sqrt{m \\left(E - V_{4}\\right)}}\\\\0 & 0 & 0 & 0 & \\frac{1.0 i}{\\hbar} \\sqrt{2} \\sqrt{m \\left(E - V_{3}\\right)} e^{\\frac{1.0 i}{\\hbar} \\sqrt{2} L_{3} \\sqrt{m \\left(E - V_{3}\\right)}} & - \\frac{1.0 i}{\\hbar} \\sqrt{2} \\sqrt{m \\left(E - V_{3}\\right)} e^{- \\frac{1.0 i}{\\hbar} \\sqrt{2} L_{3} \\sqrt{m \\left(E - V_{3}\\right)}} & - \\frac{1.0 i}{\\hbar} \\sqrt{2} \\sqrt{m \\left(E - V_{4}\\right)} e^{\\frac{1.0 i}{\\hbar} \\sqrt{2} L_{3} \\sqrt{m \\left(E - V_{4}\\right)}} & \\frac{1.0 i}{\\hbar} \\sqrt{2} \\sqrt{m \\left(E - V_{4}\\right)} e^{- \\frac{1.0 i}{\\hbar} \\sqrt{2} L_{3} \\sqrt{m \\left(E - V_{4}\\right)}}\\\\1 & 0 & 0 & 0 & 0 & 0 & 0 & 0\\\\0 & 0 & 0 & 0 & 0 & 0 & 0 & 1\\end{matrix}\\right]$$"
      ],
      "text/plain": [
       "⎡                           ____________                                      \n",
       "⎢             1.0⋅√2⋅ⅈ⋅L₁⋅╲╱ m⋅(E - V₁)                             -1.0⋅√2⋅ⅈ⋅\n",
       "⎢             ──────────────────────────                            ──────────\n",
       "⎢                        \\h̅                                                  \n",
       "⎢            ℯ                                                     ℯ          \n",
       "⎢                                                                             \n",
       "⎢                                       ____________                          \n",
       "⎢                         1.0⋅√2⋅ⅈ⋅L₁⋅╲╱ m⋅(E - V₁)                           \n",
       "⎢                         ──────────────────────────                          \n",
       "⎢           ____________             \\h̅                          ____________\n",
       "⎢1.0⋅√2⋅ⅈ⋅╲╱ m⋅(E - V₁) ⋅ℯ                            -1.0⋅√2⋅ⅈ⋅╲╱ m⋅(E - V₁) \n",
       "⎢───────────────────────────────────────────────────  ────────────────────────\n",
       "⎢                        \\h̅                                                  \n",
       "⎢                                                                             \n",
       "⎢                                                                             \n",
       "⎢                                                                             \n",
       "⎢                                                                             \n",
       "⎢                                                                             \n",
       "⎢                         0                                                   \n",
       "⎢                                                                             \n",
       "⎢                                                                             \n",
       "⎢                                                                             \n",
       "⎢                                                                             \n",
       "⎢                                                                             \n",
       "⎢                                                                             \n",
       "⎢                         0                                                   \n",
       "⎢                                                                             \n",
       "⎢                                                                             \n",
       "⎢                                                                             \n",
       "⎢                                                                             \n",
       "⎢                                                                             \n",
       "⎢                                                                             \n",
       "⎢                         0                                                   \n",
       "⎢                                                                             \n",
       "⎢                                                                             \n",
       "⎢                                                                             \n",
       "⎢                                                                             \n",
       "⎢                                                                             \n",
       "⎢                                                                             \n",
       "⎢                         0                                                   \n",
       "⎢                                                                             \n",
       "⎢                                                                             \n",
       "⎢                         1                                                   \n",
       "⎢                                                                             \n",
       "⎣                         0                                                   \n",
       "\n",
       "     ____________                                            ____________     \n",
       "L₁⋅╲╱ m⋅(E - V₁)                               1.0⋅√2⋅ⅈ⋅L₁⋅╲╱ m⋅(E - V₂)      \n",
       "──────────────────                             ──────────────────────────     \n",
       "  \\h̅                                                     \\h̅                 \n",
       "                                             -ℯ                               \n",
       "                                                                              \n",
       "                 ____________                                            _____\n",
       "  -1.0⋅√2⋅ⅈ⋅L₁⋅╲╱ m⋅(E - V₁)                               1.0⋅√2⋅ⅈ⋅L₁⋅╲╱ m⋅(E\n",
       "  ────────────────────────────                             ───────────────────\n",
       "              \\h̅                            ____________             \\h̅     \n",
       "⋅ℯ                               -1.0⋅√2⋅ⅈ⋅╲╱ m⋅(E - V₂) ⋅ℯ                   \n",
       "───────────────────────────────  ─────────────────────────────────────────────\n",
       "  \\h̅                                                     \\h̅                 \n",
       "                                                                              \n",
       "                                                             ____________     \n",
       "                                               1.0⋅√2⋅ⅈ⋅L₂⋅╲╱ m⋅(E - V₂)      \n",
       "                                               ──────────────────────────     \n",
       "                                                          \\h̅                 \n",
       "   0                                          ℯ                               \n",
       "                                                                              \n",
       "                                                                         _____\n",
       "                                                           1.0⋅√2⋅ⅈ⋅L₂⋅╲╱ m⋅(E\n",
       "                                                           ───────────────────\n",
       "                                             ____________             \\h̅     \n",
       "                                  1.0⋅√2⋅ⅈ⋅╲╱ m⋅(E - V₂) ⋅ℯ                   \n",
       "   0                              ────────────────────────────────────────────\n",
       "                                                          \\h̅                 \n",
       "                                                                              \n",
       "                                                                              \n",
       "                                                                              \n",
       "                                                                              \n",
       "                                                                              \n",
       "   0                                                       0                  \n",
       "                                                                              \n",
       "                                                                              \n",
       "                                                                              \n",
       "                                                                              \n",
       "                                                                              \n",
       "                                                                              \n",
       "   0                                                       0                  \n",
       "                                                                              \n",
       "                                                                              \n",
       "   0                                                       0                  \n",
       "                                                                              \n",
       "   0                                                       0                  \n",
       "\n",
       "                                       ____________                           \n",
       "                        -1.0⋅√2⋅ⅈ⋅L₁⋅╲╱ m⋅(E - V₂)                            \n",
       "                        ────────────────────────────                          \n",
       "                                    \\h̅                                       \n",
       "                      -ℯ                                                      \n",
       "                                                                              \n",
       "_______                                            ____________               \n",
       " - V₂)                              -1.0⋅√2⋅ⅈ⋅L₁⋅╲╱ m⋅(E - V₂)                \n",
       "───────                             ────────────────────────────              \n",
       "                      ____________              \\h̅                           \n",
       "           1.0⋅√2⋅ⅈ⋅╲╱ m⋅(E - V₂) ⋅ℯ                                          \n",
       "────────   ─────────────────────────────────────────────────────              \n",
       "                                    \\h̅                                       \n",
       "                                                                              \n",
       "                                       ____________                           \n",
       "                        -1.0⋅√2⋅ⅈ⋅L₂⋅╲╱ m⋅(E - V₂)                            \n",
       "                        ────────────────────────────                          \n",
       "                                    \\h̅                                       \n",
       "                       ℯ                                                      \n",
       "                                                                              \n",
       "_______                                            ____________               \n",
       " - V₂)                              -1.0⋅√2⋅ⅈ⋅L₂⋅╲╱ m⋅(E - V₂)                \n",
       "───────                             ────────────────────────────              \n",
       "                      ____________              \\h̅                           \n",
       "          -1.0⋅√2⋅ⅈ⋅╲╱ m⋅(E - V₂) ⋅ℯ                               -1.0⋅√2⋅ⅈ⋅╲\n",
       "───────   ───────────────────────────────────────────────────────  ───────────\n",
       "                                    \\h̅                                       \n",
       "                                                                              \n",
       "                                                                              \n",
       "                                                                              \n",
       "                                                                              \n",
       "                                                                              \n",
       "                                     0                                        \n",
       "                                                                              \n",
       "                                                                              \n",
       "                                                                              \n",
       "                                                                              \n",
       "                                                                              \n",
       "                                                                    1.0⋅√2⋅ⅈ⋅╲\n",
       "                                     0                              ──────────\n",
       "                                                                              \n",
       "                                                                              \n",
       "                                     0                                        \n",
       "                                                                              \n",
       "                                     0                                        \n",
       "\n",
       "                                                                              \n",
       "                                                                              \n",
       "                                                                              \n",
       "                                                                              \n",
       "               0                                                       0      \n",
       "                                                                              \n",
       "                                                                              \n",
       "                                                                              \n",
       "                                                                              \n",
       "                                                                              \n",
       "                                                                              \n",
       "               0                                                       0      \n",
       "                                                                              \n",
       "                                                                              \n",
       "                 ____________                                            _____\n",
       "   1.0⋅√2⋅ⅈ⋅L₂⋅╲╱ m⋅(E - V₃)                              -1.0⋅√2⋅ⅈ⋅L₂⋅╲╱ m⋅(E\n",
       "   ──────────────────────────                             ────────────────────\n",
       "              \\h̅                                                     \\h̅     \n",
       " -ℯ                                                     -ℯ                    \n",
       "                                                                              \n",
       "                             ____________                                     \n",
       "               1.0⋅√2⋅ⅈ⋅L₂⋅╲╱ m⋅(E - V₃)                              -1.0⋅√2⋅\n",
       "               ──────────────────────────                             ────────\n",
       " ____________             \\h̅                           ____________          \n",
       "╱ m⋅(E - V₃) ⋅ℯ                              1.0⋅√2⋅ⅈ⋅╲╱ m⋅(E - V₃) ⋅ℯ        \n",
       "──────────────────────────────────────────   ─────────────────────────────────\n",
       "              \\h̅                                                     \\h̅     \n",
       "                                                                              \n",
       "                 ____________                                            _____\n",
       "   1.0⋅√2⋅ⅈ⋅L₃⋅╲╱ m⋅(E - V₃)                              -1.0⋅√2⋅ⅈ⋅L₃⋅╲╱ m⋅(E\n",
       "   ──────────────────────────                             ────────────────────\n",
       "              \\h̅                                                     \\h̅     \n",
       "  ℯ                                                      ℯ                    \n",
       "                                                                              \n",
       "                             ____________                                     \n",
       "               1.0⋅√2⋅ⅈ⋅L₃⋅╲╱ m⋅(E - V₃)                              -1.0⋅√2⋅\n",
       "               ──────────────────────────                             ────────\n",
       " ____________             \\h̅                           ____________          \n",
       "╱ m⋅(E - V₃) ⋅ℯ                             -1.0⋅√2⋅ⅈ⋅╲╱ m⋅(E - V₃) ⋅ℯ        \n",
       "─────────────────────────────────────────   ──────────────────────────────────\n",
       "              \\h̅                                                     \\h̅     \n",
       "                                                                              \n",
       "               0                                                       0      \n",
       "                                                                              \n",
       "               0                                                       0      \n",
       "\n",
       "                                                                              \n",
       "                                                                              \n",
       "                                                                              \n",
       "                                                                              \n",
       "                                                    0                         \n",
       "                                                                              \n",
       "                                                                              \n",
       "                                                                              \n",
       "                                                                              \n",
       "                                                                              \n",
       "                                                                              \n",
       "                                                    0                         \n",
       "                                                                              \n",
       "                                                                              \n",
       "_______                                                                       \n",
       " - V₃)                                                                        \n",
       "────────                                                                      \n",
       "                                                                              \n",
       "                                                    0                         \n",
       "                                                                              \n",
       "       ____________                                                           \n",
       "ⅈ⋅L₂⋅╲╱ m⋅(E - V₃)                                                            \n",
       "────────────────────                                                          \n",
       "    \\h̅                                                                       \n",
       "                                                                              \n",
       "────────────────────                                0                         \n",
       "                                                                              \n",
       "                                                                              \n",
       "_______                                              _______________          \n",
       " - V₃)                                 1.0⋅√2⋅ⅈ⋅L₃⋅╲╱ m⋅(E - V_{4})           \n",
       "────────                               ─────────────────────────────          \n",
       "                                                    \\h̅                       \n",
       "                                     -ℯ                                       \n",
       "                                                                              \n",
       "       ____________                                               ____________\n",
       "ⅈ⋅L₃⋅╲╱ m⋅(E - V₃)                                  1.0⋅√2⋅ⅈ⋅L₃⋅╲╱ m⋅(E - V_{4\n",
       "────────────────────                                ──────────────────────────\n",
       "    \\h̅                            _______________               \\h̅          \n",
       "                       -1.0⋅√2⋅ⅈ⋅╲╱ m⋅(E - V_{4}) ⋅ℯ                          \n",
       "─────────────────────  ───────────────────────────────────────────────────────\n",
       "                                                   \\h̅                        \n",
       "                                                                              \n",
       "                                                    0                         \n",
       "                                                                              \n",
       "                                                    0                         \n",
       "\n",
       "                                                                 ⎤\n",
       "                                                                 ⎥\n",
       "                                                                 ⎥\n",
       "                                                                 ⎥\n",
       "                                   0                             ⎥\n",
       "                                                                 ⎥\n",
       "                                                                 ⎥\n",
       "                                                                 ⎥\n",
       "                                                                 ⎥\n",
       "                                                                 ⎥\n",
       "                                                                 ⎥\n",
       "                                   0                             ⎥\n",
       "                                                                 ⎥\n",
       "                                                                 ⎥\n",
       "                                                                 ⎥\n",
       "                                                                 ⎥\n",
       "                                                                 ⎥\n",
       "                                                                 ⎥\n",
       "                                   0                             ⎥\n",
       "                                                                 ⎥\n",
       "                                                                 ⎥\n",
       "                                                                 ⎥\n",
       "                                                                 ⎥\n",
       "                                                                 ⎥\n",
       "                                                                 ⎥\n",
       "                                   0                             ⎥\n",
       "                                                                 ⎥\n",
       "                                                                 ⎥\n",
       "                                    _______________              ⎥\n",
       "                     -1.0⋅√2⋅ⅈ⋅L₃⋅╲╱ m⋅(E - V_{4})               ⎥\n",
       "                     ───────────────────────────────             ⎥\n",
       "                                   \\h̅                           ⎥\n",
       "                   -ℯ                                            ⎥\n",
       "                                                                 ⎥\n",
       "___                                              _______________ ⎥\n",
       "})                                -1.0⋅√2⋅ⅈ⋅L₃⋅╲╱ m⋅(E - V_{4})  ⎥\n",
       "───                               ───────────────────────────────⎥\n",
       "                 _______________                \\h̅              ⎥\n",
       "      1.0⋅√2⋅ⅈ⋅╲╱ m⋅(E - V_{4}) ⋅ℯ                               ⎥\n",
       "────  ───────────────────────────────────────────────────────────⎥\n",
       "                                  \\h̅                            ⎥\n",
       "                                                                 ⎥\n",
       "                                   0                             ⎥\n",
       "                                                                 ⎥\n",
       "                                   1                             ⎦"
      ]
     },
     "execution_count": 87,
     "metadata": {},
     "output_type": "execute_result"
    }
   ],
   "source": [
    "m, E = sm.symbols('m, E')\n",
    "V = []\n",
    "L = []\n",
    "for j in range(1, 4):\n",
    "    V.append(sm.symbols('V_'+str(j)))\n",
    "    L.append(sm.symbols('L_'+str(j)))\n",
    "V.append(sm.symbols('V_{4}'))\n",
    "\n",
    "rval = gen_matrix(V, L, E, m)\n",
    "rval"
   ]
  },
  {
   "cell_type": "markdown",
   "metadata": {},
   "source": [
    "Solving the Coefficient Matrix\n",
    "--------------------------------\n",
    "\n",
    "Finally, we can construct the $b$ vector and a general \"solve\" function:"
   ]
  },
  {
   "cell_type": "code",
   "execution_count": 88,
   "metadata": {},
   "outputs": [],
   "source": [
    "def gen_b(n, F_0 = sm.Symbol('F_0')):\n",
    "    bvect = sm.zeros(2 *n, 1)\n",
    "    bvect[2*n - 2] = F_0\n",
    "    return bvect"
   ]
  },
  {
   "cell_type": "code",
   "execution_count": 89,
   "metadata": {},
   "outputs": [],
   "source": [
    "def solve_sys(V, L, E, m, F_0=1):\n",
    "    A = gen_matrix(V, L, E, m, use_k_as_symbol=False)\n",
    "    b = gen_b(len(V), F_0)\n",
    "    return A.LUsolve(b)"
   ]
  },
  {
   "cell_type": "markdown",
   "metadata": {},
   "source": [
    "Example solutions\n",
    "-------------------"
   ]
  },
  {
   "cell_type": "markdown",
   "metadata": {},
   "source": [
    "Potential Well  of $V_0$ between $-L/2$ and $L/2$:"
   ]
  },
  {
   "cell_type": "code",
   "execution_count": 158,
   "metadata": {},
   "outputs": [],
   "source": [
    "m, E = sm.symbols('m, E', positive=True, real=True)\n",
    "V_0 = sm.symbols('V', real=True, positive=True)\n",
    "L = sm.symbols('L', real=True, positive=True)"
   ]
  },
  {
   "cell_type": "code",
   "execution_count": 159,
   "metadata": {},
   "outputs": [
    {
     "data": {
      "text/latex": [
       "$$\\left[\\begin{matrix}e^{1.0 i L k_{0}} & e^{- 1.0 i L k_{0}} & - e^{1.0 i L k_{V}} & - e^{- 1.0 i L k_{V}}\\\\1.0 i k_{0} e^{1.0 i L k_{0}} & - 1.0 i k_{0} e^{- 1.0 i L k_{0}} & - 1.0 i k_{V} e^{1.0 i L k_{V}} & 1.0 i k_{V} e^{- 1.0 i L k_{V}}\\\\1 & 0 & 0 & 0\\\\0 & 0 & 0 & 1\\end{matrix}\\right]$$"
      ],
      "text/plain": [
       "⎡       1.0⋅ⅈ⋅L⋅k_{0}               -1.0⋅ⅈ⋅L⋅k_{0}                 1.0⋅ⅈ⋅L⋅k_{\n",
       "⎢      ℯ                           ℯ                             -ℯ           \n",
       "⎢                                                                             \n",
       "⎢             1.0⋅ⅈ⋅L⋅k_{0}                -1.0⋅ⅈ⋅L⋅k_{0}                1.0⋅ⅈ\n",
       "⎢1.0⋅ⅈ⋅k_{0}⋅ℯ               -1.0⋅ⅈ⋅k_{0}⋅ℯ                -1.0⋅ⅈ⋅k_{V}⋅ℯ     \n",
       "⎢                                                                             \n",
       "⎢            1                            0                             0     \n",
       "⎢                                                                             \n",
       "⎣            0                            0                             0     \n",
       "\n",
       "V}               -1.0⋅ⅈ⋅L⋅k_{V}      ⎤\n",
       "               -ℯ                    ⎥\n",
       "                                     ⎥\n",
       "⋅L⋅k_{V}               -1.0⋅ⅈ⋅L⋅k_{V}⎥\n",
       "          1.0⋅ⅈ⋅k_{V}⋅ℯ              ⎥\n",
       "                                     ⎥\n",
       "                       0             ⎥\n",
       "                                     ⎥\n",
       "                       1             ⎦"
      ]
     },
     "execution_count": 159,
     "metadata": {},
     "output_type": "execute_result"
    }
   ],
   "source": [
    "A = gen_matrix([0, V_0], [L], E, m, True)\n",
    "A"
   ]
  },
  {
   "cell_type": "code",
   "execution_count": 160,
   "metadata": {},
   "outputs": [
    {
     "data": {
      "text/latex": [
       "$$\\left[\\begin{matrix}0\\\\0\\\\1\\\\0\\end{matrix}\\right]$$"
      ],
      "text/plain": [
       "⎡0⎤\n",
       "⎢ ⎥\n",
       "⎢0⎥\n",
       "⎢ ⎥\n",
       "⎢1⎥\n",
       "⎢ ⎥\n",
       "⎣0⎦"
      ]
     },
     "execution_count": 160,
     "metadata": {},
     "output_type": "execute_result"
    }
   ],
   "source": [
    "b = gen_b(2, 1)\n",
    "b"
   ]
  },
  {
   "cell_type": "code",
   "execution_count": 185,
   "metadata": {},
   "outputs": [
    {
     "data": {
      "text/latex": [
       "$$\\left [ 1.0, \\quad \\frac{1.0 e^{\\frac{2.0 i}{\\hbar} \\sqrt{2} \\sqrt{E} L \\sqrt{m}}}{\\sqrt{E} + \\sqrt{E - V}} \\left(\\sqrt{E} - \\sqrt{E - V}\\right), \\quad \\frac{2.0 \\sqrt{E}}{\\sqrt{E} + \\sqrt{E - V}} e^{\\frac{1.0 i}{\\hbar} \\sqrt{2} L \\sqrt{m} \\left(\\sqrt{E} - \\sqrt{E - V}\\right)}, \\quad 0\\right ]$$"
      ],
      "text/plain": [
       "⎡                                                                   ⎛       __\n",
       "⎢                           2.0⋅√2⋅ⅈ⋅√E⋅L⋅√m          1.0⋅√2⋅ⅈ⋅L⋅√m⋅⎝√E - ╲╱ E\n",
       "⎢                           ────────────────          ────────────────────────\n",
       "⎢         ⎛       _______⎞        \\h̅                              \\h̅        \n",
       "⎢     1.0⋅⎝√E - ╲╱ E - V ⎠⋅ℯ                  2.0⋅√E⋅ℯ                        \n",
       "⎢1.0, ──────────────────────────────────────, ────────────────────────────────\n",
       "⎢                        _______                                 _______      \n",
       "⎣                 √E + ╲╱ E - V                           √E + ╲╱ E - V       \n",
       "\n",
       "_____⎞   ⎤\n",
       " - V ⎠   ⎥\n",
       "──────   ⎥\n",
       "         ⎥\n",
       "         ⎥\n",
       "──────, 0⎥\n",
       "         ⎥\n",
       "         ⎦"
      ]
     },
     "execution_count": 185,
     "metadata": {},
     "output_type": "execute_result"
    }
   ],
   "source": [
    "soln = [elm.simplify() for elm in solve_sys([0, V_0], [L], E, m)]\n",
    "soln"
   ]
  },
  {
   "cell_type": "code",
   "execution_count": 195,
   "metadata": {},
   "outputs": [
    {
     "data": {
      "text/latex": [
       "$$\\left ( 1.0 \\left|{\\frac{\\sqrt{E} - \\sqrt{E - V}}{\\sqrt{E} + \\sqrt{E - V}}}\\right|^{2}, \\quad 4.0 \\sqrt{E} \\sqrt{E - V} e^{\\frac{2.0 L}{\\hbar} \\sqrt{2} \\sqrt{m} \\sin{\\left (\\frac{1}{2} \\operatorname{atan_{2}}{\\left (0,E - V \\right )} \\right )} \\sqrt{\\left|{E - V}\\right|}} \\left|{\\frac{1}{\\sqrt{E} + \\sqrt{E - V}}}\\right|^{2}\\right )$$"
      ],
      "text/plain": [
       "⎛                                                        ⎛atan2(0, E - V)⎞   _\n",
       "⎜                                         2.0⋅√2⋅L⋅√m⋅sin⎜───────────────⎟⋅╲╱ \n",
       "⎜                    2                                   ⎝       2       ⎠    \n",
       "⎜    │       _______│                     ────────────────────────────────────\n",
       "⎜    │√E - ╲╱ E - V │            _______                      \\h̅             \n",
       "⎜1.0⋅│──────────────│ , 4.0⋅√E⋅╲╱ E - V ⋅ℯ                                    \n",
       "⎜    │       _______│                                                         \n",
       "⎝    │√E + ╲╱ E - V │                                                         \n",
       "\n",
       "________                  ⎞\n",
       "│E - V│                   ⎟\n",
       "                          ⎟\n",
       "────────                 2⎟\n",
       "         │      1       │ ⎟\n",
       "        ⋅│──────────────│ ⎟\n",
       "         │       _______│ ⎟\n",
       "         │√E + ╲╱ E - V │ ⎠"
      ]
     },
     "execution_count": 195,
     "metadata": {},
     "output_type": "execute_result"
    }
   ],
   "source": [
    "R = soln[1]\n",
    "T = soln[2]\n",
    "sm.Abs(R)**2(sm.Abs(T)**2 * sm.sqrt(E - V_0)/sm.sqrt(E)).simplify()"
   ]
  },
  {
   "cell_type": "code",
   "execution_count": null,
   "metadata": {},
   "outputs": [],
   "source": []
  }
 ],
 "metadata": {
  "kernelspec": {
   "display_name": "Python 3",
   "language": "python",
   "name": "python3"
  },
  "language_info": {
   "codemirror_mode": {
    "name": "ipython",
    "version": 3
   },
   "file_extension": ".py",
   "mimetype": "text/x-python",
   "name": "python",
   "nbconvert_exporter": "python",
   "pygments_lexer": "ipython3",
   "version": "3.6.5"
  }
 },
 "nbformat": 4,
 "nbformat_minor": 2
}
