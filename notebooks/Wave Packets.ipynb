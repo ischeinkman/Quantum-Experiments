{
 "cells": [
  {
   "cell_type": "markdown",
   "metadata": {},
   "source": [
    "Sources:\n",
    " *  [oberlin.edu](http://www2.oberlin.edu/physics/dstyer/QM/Assignments/GaussianWavepacket.pdf)\n",
    " *  [Wikipedia](https://en.wikipedia.org/wiki/Wave_packet)"
   ]
  },
  {
   "cell_type": "code",
   "execution_count": 1,
   "metadata": {},
   "outputs": [],
   "source": [
    "import sympy as sm\n",
    "import numpy as np\n",
    "import matplotlib as plt\n",
    "from IPython.display import display as pprint\n",
    "sm.init_printing()"
   ]
  },
  {
   "cell_type": "markdown",
   "metadata": {},
   "source": [
    "Useful Definitions\n",
    "--------------------\n",
    "We will be using some definitions from the oberlin paper and some custom ones for this notebook:\n",
    "\n",
    "$$\n",
    "\\begin{align}\n",
    "\\beta(t) &= 1 + i\\frac{\\hbar}{m\\sigma^2}t\\\\\n",
    "E(\\vec{p}) &= \\frac{\\vec{p} \\cdot \\vec{p}}{2m} \\\\\n",
    "\\end{align}\n",
    "$$"
   ]
  },
  {
   "cell_type": "markdown",
   "metadata": {},
   "source": [
    "General Form of the Wave Packet\n",
    "-------------------------------\n",
    "A wave packet is an equation of a wave trapped within a certain \"width\" $\\sigma$ travelling with a certain \"speed\" $\\frac{p_0}{m}$. \n",
    "\n",
    "From oberlin, this wave has an equation of the form:\n",
    "$$\n",
    "\\begin{equation}\n",
    "\\Psi(\\vec{x}, t) = \\frac{1}{\\sqrt{\\sigma \\beta \\sqrt{\\pi}}}\n",
    "\\exp{\\left(\\frac{i}{\\hbar}(\\vec{p_0} \\cdot \\vec{x} - E(\\vec{p_0})t)\\right)}\n",
    "\\exp{\\left(-\\frac{1}{2\\sigma^2\\beta}(\\vec{x} - \\frac{\\vec{p_0}}{m}t)^2\\right)}\n",
    "\\end{equation}\n",
    "$$\n",
    "\n",
    "However, it is actually more useful to start with the $\\Psi(\\vec{x},0)$ wave function:\n",
    "$$\n",
    "\\begin{equation}\n",
    "\\Psi(\\vec{x}, 0) = \\frac{1}{\\sqrt{\\sigma \\sqrt{\\pi}}}\n",
    "\\exp{\\left(\\frac{i}{\\hbar}(\\vec{p_0} \\cdot \\vec{x})\\right)}\n",
    "\\exp{\\left(-\\frac{1}{2\\sigma^2}(\\vec{x})^2\\right)}\n",
    "\\end{equation}\n",
    "$$\n",
    "since then we can generate the time steps on the fly via the Schrodinger Equation:\n",
    "$$\n",
    "i\\hbar\\frac{\\partial \\Psi}{\\partial t} = V(\\vec{x}, t)\\Psi - \\frac{\\hbar^2}{2m}\\nabla^2\\Psi\n",
    "$$"
   ]
  },
  {
   "cell_type": "code",
   "execution_count": 2,
   "metadata": {},
   "outputs": [
    {
     "data": {
      "image/png": "[encoded data removed]",
      "text/latex": [
       "$$\\frac{1}{\\sqrt{\\beta} \\sqrt[4]{\\pi} \\sqrt{\\sigma}} e^{\\frac{1.0 i}{\\hbar} \\left(- E_{0} t + p_{0x} x + p_{0y} y + p_{0z} z\\right)} e^{- \\frac{1}{2 \\beta \\sigma^{2}} \\left(\\left(x - \\frac{p_{0x} t}{m}\\right)^{2} + \\left(y - \\frac{p_{0y} t}{m}\\right)^{2} + \\left(z - \\frac{p_{0z} t}{m}\\right)^{2}\\right)}$$"
      ],
      "text/plain": [
       "                                                  ⎛              2            \n",
       "                                                  ⎜⎛    p_{0x}⋅t⎞    ⎛    p_{0\n",
       "                                                 -⎜⎜x - ────────⎟  + ⎜y - ────\n",
       "                                                  ⎝⎝       m    ⎠    ⎝       m\n",
       " 1.0⋅ⅈ⋅(-E₀⋅t + p_{0x}⋅x + p_{0y}⋅y + p_{0z}⋅z)  ─────────────────────────────\n",
       " ──────────────────────────────────────────────                               \n",
       "                      \\h̅                                            2⋅\\beta⋅\\\n",
       "ℯ                                              ⋅ℯ                             \n",
       "──────────────────────────────────────────────────────────────────────────────\n",
       "                                        _______ 4 _____   ________            \n",
       "                                      ╲╱ \\beta ⋅╲╱ \\pi ⋅╲╱ \\sigma             \n",
       "\n",
       "     2                 2⎞ \n",
       "y}⋅t⎞    ⎛    p_{0z}⋅t⎞ ⎟ \n",
       "────⎟  + ⎜z - ────────⎟ ⎟ \n",
       "    ⎠    ⎝       m    ⎠ ⎠ \n",
       "──────────────────────────\n",
       "     2                    \n",
       "sigma                     \n",
       "                          \n",
       "──────────────────────────\n",
       "                          \n",
       "                          "
      ]
     },
     "metadata": {},
     "output_type": "display_data"
    },
    {
     "data": {
      "image/png": "[encoded data removed]",
      "text/latex": [
       "$$\\frac{1}{\\sqrt[4]{\\pi} \\sqrt{\\sigma}} e^{\\frac{1}{2 \\sigma^{2}} \\left(- x^{2} - y^{2} - z^{2}\\right) + \\frac{i}{\\hbar} \\left(p_{0x} x + p_{0y} y + p_{0z} z\\right)}$$"
      ],
      "text/plain": [
       "    2    2    2                                     \n",
       " - x  - y  - z    ⅈ⋅(p_{0x}⋅x + p_{0y}⋅y + p_{0z}⋅z)\n",
       " ────────────── + ──────────────────────────────────\n",
       "           2                     \\h̅                \n",
       "   2⋅\\sigma                                         \n",
       "ℯ                                                   \n",
       "────────────────────────────────────────────────────\n",
       "                 4 _____   ________                 \n",
       "                 ╲╱ \\pi ⋅╲╱ \\sigma                  "
      ]
     },
     "metadata": {},
     "output_type": "display_data"
    }
   ],
   "source": [
    "#Constants \n",
    "sigma, hbar, pi,m = sm.symbols('\\sigma, \\hbar, \\pi, m', positive=True, real=True)\n",
    "\n",
    "#Initial momentum\n",
    "p_0 = sm.Matrix([*sm.symbols('p_{0x}, p_{0y}, p_{0z}')])\n",
    "\n",
    "#Time, distance param; r = sqrt(x_v.dot(x_v))\n",
    "r = sm.Symbol('|\\\\vec{x}|', real=True, positive=True)\n",
    "t = sm.Symbol('t', real=True, positive=True)\n",
    "\n",
    "\n",
    "#Position parameters\n",
    "x_v = sm.Matrix([*sm.symbols('x, y, z')])\n",
    "x, y, z = x_v\n",
    "\n",
    "#Just for ease of visualisation\n",
    "PX = sm.Symbol(\"(\\\\vec{p_0} \\\\cdot \\\\vec{x})\")\n",
    "\n",
    "#Oberlin vars\n",
    "E_0 = sm.symbols('E_0', positive=True, real=True) #p_0.dot(p_0)/2*m\n",
    "B = sm.symbols('\\\\beta')#1 + 1j*hbar*t/(m * sigma^2)\n",
    "\n",
    "#Potential function\n",
    "V = sm.symbols('V')\n",
    "\n",
    "#Split up the declarations for legibility\n",
    "Psi_coeff = 1/sm.sqrt(sigma * B * sm.sqrt(pi))\n",
    "Psi_evo = sm.exp(1j/hbar * (p_0.dot(x_v) -E_0 * t))\n",
    "Psi_pkt = sm.exp(-1/(2 * sigma**2 * B) * (x_v - p_0/m * t).dot(x_v - p_0/m * t))\n",
    "\n",
    "#Build Psi\n",
    "Psi = Psi_coeff * Psi_evo * Psi_pkt\n",
    "Psi_t0 = Psi.subs({B : 1 + 1j*hbar *t/(m * sigma**2), t : 0}).simplify()\n",
    "pprint(Psi)\n",
    "pprint(Psi_t0)"
   ]
  },
  {
   "cell_type": "markdown",
   "metadata": {},
   "source": [
    "These are some useful functions to make equations more legible:"
   ]
  },
  {
   "cell_type": "code",
   "execution_count": 3,
   "metadata": {},
   "outputs": [],
   "source": [
    "def e_rep(elm):\n",
    "    relm = elm#.expand()\n",
    "    \n",
    "    #E_0 replacement\n",
    "    epart_trms = [term for term in relm.args if term.has(p_0[0]**2) or term.has(p_0[1]**2) or term.has(p_0[2]**2)]\n",
    "    if len(epart_trms) == 0:\n",
    "        return relm\n",
    "    nepart_trms = [term for term in relm.args if not term in epart_trms]\n",
    "    epart = sum(epart_trms).factor() \\\n",
    "        .subs({1.0 * p_0.dot(p_0) : E_0 * 2 * m}) \\\n",
    "        .subs({p_0.dot(p_0) : E_0 * 2 * m})\n",
    "    relm = (epart + sum(nepart_trms)).expand()\n",
    "    return relm\n",
    "\n",
    "def r_rep(elm):\n",
    "    relm = elm.expand()\n",
    "\n",
    "    #r**2 replacement\n",
    "    xpart_trms = [term for term in relm.args if term.has(x**2) or term.has(y**2) or term.has(z**2)]\n",
    "    if len(xpart_trms) == 0:\n",
    "        return relm\n",
    "    nxpart_trms = [term for term in relm.args if not term in xpart_trms]\n",
    "    xpart = sum(xpart_trms).factor() \\\n",
    "        .subs({ x_v.dot(x_v) : r**2}) \\\n",
    "        .subs({ 1.0 * x_v.dot(x_v) : r**2})\n",
    "    relm = (xpart + sum(nxpart_trms)).expand()\n",
    "    return relm\n",
    "\n",
    "def px_rep(elm):\n",
    "    relm = elm.expand()\n",
    "\n",
    "    \n",
    "    #PX replacement\n",
    "    pxpart_trms = [term for term in relm.args if term.has(x*p_0[0]) or term.has(y*p_0[1]) or term.has(z*p_0[2])]\n",
    "    if len(pxpart_trms) == 0:\n",
    "        return relm\n",
    "    npxpart_trms = [term for term in relm.args if not term in pxpart_trms]\n",
    "    pxpart = sum(pxpart_trms).factor() \\\n",
    "        .subs({1.0 * p_0.dot(x_v) : PX}) \\\n",
    "        .subs({p_0.dot(x_v) : PX})\n",
    "\n",
    "    relm = (pxpart + sum(npxpart_trms)).expand()\n",
    "    \n",
    "    return relm\n",
    "def b_rep(elm):\n",
    "    return elm.subs({B : 1 + (1j*hbar*t)/(m * sigma**2)})\n",
    "\n",
    "def red_exp(elm):\n",
    "    return b_rep(px_rep(r_rep(e_rep(elm))))\n"
   ]
  },
  {
   "cell_type": "markdown",
   "metadata": {},
   "source": [
    "Next we build the $t=0$ Laplacian and $KE_{coeff}$ functions to have a good starting point:"
   ]
  },
  {
   "cell_type": "code",
   "execution_count": 4,
   "metadata": {},
   "outputs": [
    {
     "data": {
      "image/png": "[encoded data removed]",
      "text/latex": [
       "$$\\frac{1}{\\hbar^{2} \\sqrt[4]{\\pi} \\sigma^{\\frac{9}{2}}} \\left(- 2 i (\\vec{p_0} \\cdot \\vec{x}) \\hbar \\sigma^{2} - 2 E_{0} \\sigma^{4} m - 3 \\hbar^{2} \\sigma^{2} + \\hbar^{2} |\\vec{x}|^{2}\\right) e^{\\frac{i}{\\hbar} (\\vec{p_0} \\cdot \\vec{x}) - \\frac{|\\vec{x}|^{2}}{2 \\sigma^{2}}}$$"
      ],
      "text/plain": [
       "                                                                              \n",
       "                                                                              \n",
       "                                                                              \n",
       "                                                                              \n",
       "⎛                                          2              4          2       2\n",
       "⎝- 2⋅ⅈ⋅(\\vec{p_0} \\cdot \\vec{x})⋅\\h̅⋅\\sigma  - 2⋅E₀⋅\\sigma ⋅m - 3⋅\\h̅ ⋅\\sigma \n",
       "──────────────────────────────────────────────────────────────────────────────\n",
       "                                                              2 4 _____       \n",
       "                                                           \\h̅ ⋅╲╱ \\pi ⋅\\sigma\n",
       "\n",
       "                                                            2\n",
       "                     ⅈ⋅(\\vec{p_0} \\cdot \\vec{x})   |\\vec{x}| \n",
       "                     ─────────────────────────── - ──────────\n",
       "                                 \\h̅                       2 \n",
       "      2          2⎞                                2⋅\\sigma  \n",
       " + \\h̅ ⋅|\\vec{x}| ⎠⋅ℯ                                        \n",
       "─────────────────────────────────────────────────────────────\n",
       "9/2                                                          \n",
       "                                                             "
      ]
     },
     "execution_count": 4,
     "metadata": {},
     "output_type": "execute_result"
    }
   ],
   "source": [
    "lap_t0 = (Psi_t0.diff(x, 2) + Psi_t0.diff(y, 2) + Psi_t0.diff(z, 2)) \\\n",
    "    .subs({x_v.dot(x_v) : r**2, x_v.dot(p_0) : PX, }) \\\n",
    "    .expand()\n",
    "lap_t0 = red_exp(lap_t0).nsimplify().simplify()\n",
    "lap_t0"
   ]
  },
  {
   "cell_type": "markdown",
   "metadata": {},
   "source": [
    "Hamiltonian Estimation\n",
    "----------------------------------\n",
    "Now that we have the wave at $t=0$, we need to evolve it via the Schrodinger Equation. To do that, we will\n",
    "create equations to numerically estimate $\\Psi(\\vec{x}, t+ s)$ from the wave function at time $t$. \n",
    "\n",
    "First, we will estimate the Hamiltonian of $\\Psi$ at constant $t$:\n",
    "\n",
    "The Taylor expansion for a function $g(a)$ is \n",
    "\n",
    "$$g(a + \\Delta a) = \\sum_{k = 0}^{\\infty} \\frac{(\\Delta a)^k}{k!} \\frac{d^k g}{da^k}(a)$$\n",
    "\n",
    ".\n",
    "\n",
    "Using this a formula can be extracted to determine the $n$th derivative of the function:\n",
    "\n",
    "$$\\begin{align}\n",
    "g(a + \\Delta a) &= \\sum_{k = 0}^{\\infty} \\frac{(\\Delta a)^k}{k!} \\frac{d^k g}{da^k}(a) \n",
    "\\\\\n",
    "&= \\sum_{k = 0}^{n - 1} \\frac{(\\Delta a)^k}{k!} \\frac{d^k g}{da^k}(a) + \n",
    "\\frac{(\\Delta a)^n}{n!} \\frac{d^n g}{da^n}(a) +\n",
    "\\sum_{k = n + 1}^{\\infty} \\frac{(\\Delta a)^k}{k!} \\frac{d^k g}{da^k}(a) \n",
    "\\\\\n",
    "g(a + \\Delta a) - \\sum_{k = 0}^{n - 1} \\frac{(\\Delta a)^k}{k!} \\frac{d^k g}{da^k}(a) - \\sum_{k = n + 1}^{\\infty} \\frac{(\\Delta a)^k}{k!} \\frac{d^k g}{da^k}(a) &= \\frac{(\\Delta a)^n}{n!} \\frac{d^n g}{da^n}(a)\n",
    "\\\\\n",
    "\\frac{n!}{(\\Delta a)^n}\\left(\n",
    "g(a + \\Delta a) - \\sum_{k = 0}^{n - 1} \\frac{(\\Delta a)^k}{k!} \\frac{d^k g}{da^k}(a) - \\sum_{k = n + 1}^{\\infty} \\frac{(\\Delta a)^k}{k!} \\frac{d^k g}{da^k}(a)\n",
    "\\right)\n",
    "&= \\frac{d^n g}{da^n}(a)\n",
    "\\end{align}$$"
   ]
  },
  {
   "cell_type": "markdown",
   "metadata": {},
   "source": [
    "\n",
    "A similar formula can be generated by replacing $\\Delta a$ with $- \\Delta a$:\n",
    "\n",
    "$$\\begin{align}\n",
    "g(a - \\Delta a) &= \\sum_{k = 0}^{\\infty} \\frac{(-\\Delta a)^k}{k!} \\frac{d^k g}{da^k}(a) \n",
    "\\\\\n",
    "&= \\sum_{k = 0}^{n - 1} \\frac{(-\\Delta a)^k}{k!} \\frac{d^k g}{da^k}(a) + \n",
    "\\frac{(-\\Delta a)^n}{n!} \\frac{d^n g}{da^n}(a) +\n",
    "\\sum_{k = n + 1}^{\\infty} \\frac{(-\\Delta a)^k}{k!} \\frac{d^k g}{da^k}(a) \n",
    "\\\\\n",
    "g(a - \\Delta a) - \\sum_{k = 0}^{n - 1} \\frac{(-\\Delta a)^k}{k!} \\frac{d^k g}{da^k}(a) - \\sum_{k = n + 1}^{\\infty} \\frac{(-\\Delta a)^k}{k!} \\frac{d^k g}{da^k}(a) &= \\frac{(-\\Delta a)^n}{n!} \\frac{d^n g}{da^n}(a)\n",
    "\\\\\n",
    "\\frac{n!}{(-\\Delta a)^n}\\left(\n",
    "g(a - \\Delta a) - \\sum_{k = 0}^{n - 1} \\frac{(-\\Delta a)^k}{k!} \\frac{d^k g}{da^k}(a) - \\sum_{k = n + 1}^{\\infty} \\frac{(-\\Delta a)^k}{k!} \\frac{d^k g}{da^k}(a)\n",
    "\\right)\n",
    "&= \\frac{d^n g}{da^n}(a)\n",
    "\\end{align}$$"
   ]
  },
  {
   "cell_type": "markdown",
   "metadata": {},
   "source": [
    "This is useful because, depending on $n$, they can be combined into a more accurate result. We only care about the cases $n=1$ and $n=2$ though, for the components of the Schrodinger equation. For $n=2$:\n",
    "\n",
    "$$\\begin{align}\n",
    "g(a + \\Delta a) &= \\sum_{k = 0}^{\\infty} \\frac{(\\Delta a)^k}{k!} \\frac{d^k g}{da^k}(a) \n",
    "\\\\\n",
    "&= g(a) + \n",
    "\\Delta a \\frac{d g}{da}(a) +\n",
    "\\frac{(\\Delta a)^2}{2} \\frac{d^2 g}{da^2}(a) +\n",
    "\\sum_{k = 3}^{\\infty} \\frac{(\\Delta a)^k}{k!} \\frac{d^k g}{da^k}(a) \n",
    "\\\\\n",
    "g(a + \\Delta a) - g(a) - \\Delta a \\frac{d g}{da}(a) - \\sum_{k = 3}^{\\infty} \\frac{(\\Delta a)^k}{k!} \\frac{d^k g}{da^k}(a) &= \\frac{(\\Delta a)^2}{2} \\frac{d^2 g}{da^2}(a)\n",
    "\\\\\n",
    "\\frac{2}{(\\Delta a)^2}\\left(\n",
    "g(a + \\Delta a) - g(a) - \\Delta a \\frac{d g}{da}(a) - \\sum_{k = 3}^{\\infty} \\frac{(\\Delta a)^k}{k!} \\frac{d^k g}{da^k}(a)\n",
    "\\right)\n",
    "&= \\frac{d^2 g}{da^2}(a)\n",
    "\\end{align}$$\n"
   ]
  },
  {
   "cell_type": "markdown",
   "metadata": {},
   "source": [
    "\n",
    "\n",
    "$$\\begin{align}\n",
    "g(a - \\Delta a) &= \\sum_{k = 0}^{\\infty} \\frac{(-\\Delta a)^k}{k!} \\frac{d^k g}{da^k}(a) \n",
    "\\\\\n",
    "&= g(a) -\n",
    "\\Delta a \\frac{d g}{da}(a) +\n",
    "\\frac{(\\Delta a)^2}{2} \\frac{d^2 g}{da^2}(a) +\n",
    "\\sum_{k = 3}^{\\infty} \\frac{(-\\Delta a)^k}{k!} \\frac{d^k g}{da^k}(a) \n",
    "\\\\\n",
    "g(a - \\Delta a) - g(a) + \\Delta a \\frac{d g}{da}(a) - \\sum_{k = 3}^{\\infty} \\frac{(-\\Delta a)^k}{k!} \\frac{d^k g}{da^k}(a) &= \\frac{(\\Delta a)^2}{2} \\frac{d^2 g}{da^2}(a)\n",
    "\\\\\n",
    "\\frac{2}{(\\Delta a)^2}\\left(\n",
    "g(a - \\Delta a) - g(a) + \\Delta a \\frac{d g}{da}(a) - \\sum_{k = 3}^{\\infty} \\frac{(-\\Delta a)^k}{k!} \\frac{d^k g}{da^k}(a)\n",
    "\\right)\n",
    "&= \\frac{d^2 g}{da^2}(a)\n",
    "\\end{align}$$"
   ]
  },
  {
   "cell_type": "markdown",
   "metadata": {},
   "source": [
    "Add the 2 equations:\n",
    "\n",
    "$$\\begin{align}\n",
    "2 \\frac{d^2 g}{da^2}(a) &= \n",
    "\\frac{2}{(\\Delta a)^2}\\left(\n",
    "g(a - \\Delta a) - g(a) + \\Delta a \\frac{d g}{da}(a) - \\sum_{k = 3}^{\\infty} \\frac{(-\\Delta a)^k}{k!} \\frac{d^k g}{da^k}(a)\n",
    "+\n",
    "g(a + \\Delta a) - g(a) - \\Delta a \\frac{d g}{da}(a) - \\sum_{k = 3}^{\\infty} \\frac{(\\Delta a)^k}{k!} \\frac{d^k g}{da^k}(a)\n",
    "\\right)\n",
    "\\\\\n",
    " \\frac{d^2 g}{da^2}(a) &= \n",
    "\\frac{1}{(\\Delta a)^2}\\left(\n",
    "g(a - \\Delta a) + g(a + \\Delta a)  - 2g(a)  - \\sum_{k = 1}^{\\infty} \\frac{2(\\Delta a)^{2k+1}}{(2k+1)!} \\frac{d^{2k+1}g}{da^{2k+1}}(a)\n",
    "\\right)\n",
    "\\end{align}$$"
   ]
  },
  {
   "cell_type": "markdown",
   "metadata": {},
   "source": [
    "We can then use this to estimate the laplacian of $\\Psi$, using a constant step value $d$:\n",
    "\n",
    "$$\\begin{align}\n",
    "\\nabla^2\\Psi(\\vec{a}, t) &= \\sum_{j=0}^{Dims} \\frac{\\partial^2 \\Psi}{\\partial x_j^2} \\\\\n",
    "&\\approx \\sum_j \\frac{1}{d^2} \\left(\n",
    "\\Psi(\\vec{a} + d{\\vec{x_j}}, t) + \\Psi(\\vec{a} - d{\\vec{x_j}}, t) - 2\\Psi(\\vec{a}, t)\n",
    "\\right)\n",
    "\\\\\n",
    "&= \\frac{-2D}{d^2}\\Psi(\\vec{a}, t) + \\frac{1}{d^2} \\sum_j  \\left(\n",
    "\\Psi(\\vec{a} + d{\\vec{x_j}}, t) + \\Psi(\\vec{a} - d{\\vec{x_j}}, t) \n",
    "\\right)\n",
    "\\end{align}$$"
   ]
  },
  {
   "cell_type": "markdown",
   "metadata": {},
   "source": [
    "Finally we construct our estimation for $\\hat{H}\\Psi$:\n",
    "\n",
    "$$\\begin{align}\n",
    "\\hat{H}\\Psi(\\vec{x}, t) &= -\\frac{\\hbar^2}{2m}\\nabla^2\\Psi(\\vec{x}, t) + V\\Psi(\\vec{x}, t) \\\\\n",
    "&= \\left(V(\\vec{x}, t) + \\frac{D\\hbar^2}{md^2}\\right)\\Psi(\\vec{x}, t) - \\frac{\\hbar^2}{2md^2}\\sum_j \\left(\\Psi(\\vec{x} + d\\vec{x}_j, t) + \\Psi(\\vec{x} - d\\vec{x}_j, t)\\right)\n",
    "\\end{align}$$"
   ]
  },
  {
   "cell_type": "markdown",
   "metadata": {},
   "source": [
    "Time Step Estimation\n",
    "--------------------------\n",
    "Next we will find an estimate for the time evolution, $\\Psi(\\vec{x}, t + s)$. \n",
    "\n",
    "The partial Taylor expation of $\\Psi$ for $t$ is \n",
    "\n",
    "$$\n",
    "\\Psi(\\vec{x}, t + s) =  \\sum_{k = 0}^{\\infty} \\frac{s^k}{k!} \\frac{\\partial^k \\Psi}{\\partial a^k}(\\vec{x}, t)\n",
    "$$\n",
    "\n",
    "Since we already know that $\\frac{\\partial \\Psi}{\\partial t}(\\vec{x}, t) = \\frac{\\hat{H}\\Psi(\\vec{x}, t)}{i\\hbar}$, we can expand the first 2 terms:\n",
    "\n",
    "$$\\begin{align}\n",
    "\\Psi(\\vec{x}, t + s) &=  \\sum_{k = 0}^{\\infty} \\frac{s^k}{k!} \\frac{\\partial^k \\Psi}{\\partial t^k}(\\vec{x}, t) \\\\\n",
    "&=  \\Psi(\\vec{x}, t) + s\\frac{\\partial \\Psi}{\\partial t}(\\vec{x}, t) + \\sum_{k = 2}^{\\infty} \\frac{s^k}{k!} \\frac{\\partial^k \\Psi}{\\partial t^k}(\\vec{x}, t) \\\\\n",
    "\\end{align}$$"
   ]
  },
  {
   "cell_type": "markdown",
   "metadata": {},
   "source": [
    "We again flip the step variable to reduce the error:\n",
    "\n",
    "$$\\begin{align}\n",
    "\\Psi(\\vec{x}, t - s) &=  \\sum_{k = 0}^{\\infty} \\frac{(-s)^k}{k!} \\frac{\\partial^k \\Psi}{\\partial t^k}(\\vec{x}, t) \n",
    "\\\\\n",
    "&=  \\Psi(\\vec{x}, t) - s\\frac{\\partial \\Psi}{\\partial t}(\\vec{x}, t) + \\sum_{k = 2}^{\\infty} \\frac{(-s)^k}{k!} \\frac{\\partial^k \\Psi}{\\partial t^k}(\\vec{x}, t) \n",
    "\\\\\n",
    "\\end{align}$$"
   ]
  },
  {
   "cell_type": "markdown",
   "metadata": {},
   "source": [
    "Combining the 2 produces:\n",
    "\n",
    "$$\n",
    "\\Psi(\\vec{x}, t+s) = \\Psi(\\vec{x}, t - s) + 2s\\frac{\\partial \\Psi}{\\partial t}(\\vec{x}, t) + \\sum_{k = 1}^\\infty \\frac{2s^{2k+1}}{(2k+1)!} \\frac{\\partial ^{2k+1}\\Psi}{\\partial t^{2k+1}}(\\vec{x}, t) \n",
    "\\\\\n",
    "\\approx \\Psi(\\vec{x}, t - s) + 2s\\frac{\\partial \\Psi}{\\partial t}(\\vec{x}, t)\n",
    "$$"
   ]
  },
  {
   "cell_type": "markdown",
   "metadata": {},
   "source": [
    "Final Equation\n",
    "----------------\n",
    "Finally we can combine everything into a single equation:\n",
    "\n",
    "$\\Psi(\\vec{x}, t+s) = \\Psi(\\vec{x}, t - s) + \\frac{2s}{i\\hbar}\\left(\n",
    "(V(\\vec{x}, t) + \\frac{D\\hbar^2}{md^2})\\Psi(\\vec{x}, t) - \\frac{\\hbar^2}{2md^2}\\sum_j \\left(\\Psi(\\vec{x} + d\\vec{x}_j, t) + \\Psi(\\vec{x} - d\\vec{x}_j, t)\\right)\n",
    "\\right)$"
   ]
  },
  {
   "cell_type": "markdown",
   "metadata": {},
   "source": [
    "Example Calculations\n",
    "------------------------\n",
    "We will exclusively be performing the simulations in a 2-D environment so we can use a colormap."
   ]
  },
  {
   "cell_type": "markdown",
   "metadata": {},
   "source": [
    "We will also construct an object to hold and run simulations using our new equations:"
   ]
  },
  {
   "cell_type": "code",
   "execution_count": 131,
   "metadata": {},
   "outputs": [],
   "source": [
    "class ExperimentRunner(object):\n",
    "    \n",
    "    \"\"\"Constructs a new experiment holder. \n",
    "    V is a potential function of type (x, y, t) -> double.\n",
    "    m is the mass.\n",
    "    d is the position step value.\n",
    "    s is the time step value.\n",
    "    xmin/xmax/ymin/ymax specify the rectangular borders.\n",
    "    hbar is the value we will use to estimate the reduced Planck constant.\n",
    "    res is a pre-loaded results board.\"\"\"\n",
    "    def __init__(self, V, m, d, s, xmin, xmax, ymin, ymax, hbar, res):\n",
    "        self.V = V\n",
    "        self.d = d\n",
    "        self.s = s\n",
    "        self.res = res\n",
    "        self.xmin = xmin\n",
    "        self.xmax = xmax\n",
    "        self.ymin = ymin\n",
    "        self.ymax = ymax\n",
    "        self.boundschecks = {}\n",
    "        \n",
    "        self.Hcoeff = 2*s/(1j * hbar)\n",
    "        self.lap_Psi_coeff = hbar**2/(m * d**2)\n",
    "        self.lap_offPsi_coeff = -hbar**2/(2 * m * d**2)\n",
    "        assert self.Hcoeff != 0\n",
    "        assert self.lap_Psi_coeff != 0\n",
    "        assert self.lap_offPsi_coeff != 0\n",
    "\n",
    "\n",
    "    \n",
    "    \"\"\"Gets a previous Psi result. The numbers passed are in index form for speed.\"\"\"\n",
    "    def getPsiRes(self, xind, yind, tind):\n",
    "        if xind < 0 or xind + 1 > len(self.res[0]) or yind < 0 or yind + 1 > len(self.res[0][0]) and not '{} | {} | {}'.format(tind, xind, yind) in self.boundschecks:\n",
    "            self.boundschecks['{} | {} | {}'.format(tind, xind, yind)] = 'getRes;'\n",
    "            return 0\n",
    "        assert tind <= len(self.res), \"Can't just predict from nothing!\"\n",
    "        if tind < 0:\n",
    "            tind = 0\n",
    "        return self.res[tind][xind][yind]\n",
    "    \n",
    "    \"\"\"Calculates the value of Psi(x, y, ts) from previous results.\"\"\"\n",
    "    def calcNextPsi(self, args):\n",
    "        \n",
    "        x, y, ts = args\n",
    "        \n",
    "        #Current t\n",
    "        t = ts - self.s\n",
    "        \n",
    "        #Border conditions \n",
    "        if x > self.xmax or x < self.xmin or y > self.ymax or y < self.ymin and not '{} | {} | {}'.format(tind, xind, yind) in self.boundschecks:\n",
    "            self.boundschecks['{} | {} | {}'.format(tind, xind, yind)] = 'calcNext;'\n",
    "            return 0\n",
    "                        \n",
    "        #Get the indices in the results list\n",
    "        tind = int(round(t/self.s))\n",
    "        xind = int(round((x - self.xmin)/self.d))\n",
    "        yind = int(round((y - self.ymin)/self.d))\n",
    "                \n",
    "        #Err if we didn't yet make a new res board\n",
    "        assert len(self.res) -1 >= tind+1, \"Results dimension err: wanted {} but got {}!\\nRes is:\\n{}\".format(tind + 1, len(self.res)-1, str(self.res))\n",
    "                \n",
    "        #Err if we already calced here\n",
    "        assert self.res[tind+1][xind][yind] == 0, \"Already calced at {}, {}, {}!\" %(tind+1, xind, yind)\n",
    "        \n",
    "        \n",
    "        #Psi here, now\n",
    "        Psi_t = self.getPsiRes(xind, yind, tind)\n",
    "        #Psi here, before\n",
    "        Psi_t_s = self.getPsiRes(xind, yind, tind - 1)\n",
    "        #Psi to the +x\n",
    "        Psi_xs = self.getPsiRes(xind+1, yind, tind)\n",
    "        #Psi to the -x\n",
    "        Psi_x_s = self.getPsiRes(xind-1, yind, tind)\n",
    "        #Psi to the +y\n",
    "        Psi_ys = self.getPsiRes(xind, yind+1, tind)\n",
    "        #Psi to the -y\n",
    "        Psi_y_s = self.getPsiRes(xind, yind-1, tind)\n",
    "        \n",
    "        #The sum of the positional offsets\n",
    "        offPsi = Psi_xs + Psi_x_s + Psi_ys + Psi_y_s\n",
    "        \n",
    "        if not offPsi and not '{} | {} | {}'.format(tind, xind, yind) in self.boundschecks:\n",
    "            self.boundschecks['{} | {} | {}'.format(tind, xind, yind)] = 'offPsi;'\n",
    "\n",
    "        \n",
    "        #The current hamiltonian\n",
    "        HPsi = (self.V(x, y, t) + self.lap_Psi_coeff) * Psi_t + self.lap_offPsi_coeff * offPsi\n",
    "        \n",
    "        if not HPsi and not '{} | {} | {}'.format(tind, xind, yind) in self.boundschecks:\n",
    "            self.boundschecks['{} | {} | {}'.format(tind, xind, yind)] = 'HPsi;'\n",
    "        \n",
    "        Psi_ts = Psi_t_s + self.Hcoeff * HPsi\n",
    "        \n",
    "        if not Psi_ts and not '{} | {} | {}'.format(tind, xind, yind) in self.boundschecks:\n",
    "            self.boundschecks['{} | {} | {}'.format(tind, xind, yind)] = 'Sum;'\n",
    "\n",
    "        \n",
    "        \n",
    "        self.res[tind + 1][xind][yind] = Psi_ts\n",
    "        \n",
    "        if not self.res[tind + 1][xind][yind]:\n",
    "            print(self.boundschecks)\n",
    "            assert False, \"Fuck\"\n",
    "        return Psi_ts\n",
    "    \n",
    "    \"\"\"Constructs and adds an empty results board to self.res.\"\"\"\n",
    "    def makeBoard(self):\n",
    "        startlen = len(self.res)\n",
    "        xdim = int(round((self.xmax - self.xmin)/self.d))\n",
    "        ydim = int(round((self.ymax - self.ymin)/self.d))\n",
    "        self.res.append(np.zeros((xdim, ydim), dtype=complex))\n",
    "        assert len(self.res) == startlen + 1\n",
    "    "
   ]
  },
  {
   "cell_type": "markdown",
   "metadata": {},
   "source": [
    "For our example potential, we will construct a square container from -1 to 1 on each side with a potential \"dome\" of the form $V(x, y, t) = -\\sqrt{x^2 + y^2}$:"
   ]
  },
  {
   "cell_type": "code",
   "execution_count": 132,
   "metadata": {},
   "outputs": [],
   "source": [
    "def V_f(x, y, t):\n",
    "    if x >= 1 or x <= -1 or y >= 1 or y <= -1:\n",
    "        return 9e99\n",
    "    r = np.sqrt(x**2 + y**2)\n",
    "    if r <= 1:\n",
    "        return r\n",
    "    else:\n",
    "        return 0"
   ]
  },
  {
   "cell_type": "markdown",
   "metadata": {},
   "source": [
    "Instead of starting with a wave packet, we will use a Dirac delta wave at $t=0$ and $d=s=10^{-3}$:"
   ]
  },
  {
   "cell_type": "code",
   "execution_count": 133,
   "metadata": {},
   "outputs": [],
   "source": [
    "ymin = xmin = -1\n",
    "ymax = xmax = 1\n",
    "d_v = 10**-3\n",
    "s_v = 10**-3\n",
    "res0 = [np.zeros((2000, 2000), dtype=complex)]\n",
    "res0[0][1000][1000] = 1.0 + 0j"
   ]
  },
  {
   "cell_type": "code",
   "execution_count": 134,
   "metadata": {},
   "outputs": [
    {
     "data": {
      "image/png": "[encoded data removed]",
      "text/latex": [
       "$$1$$"
      ],
      "text/plain": [
       "1"
      ]
     },
     "execution_count": 134,
     "metadata": {},
     "output_type": "execute_result"
    }
   ],
   "source": [
    "exp1_runner = ExperimentRunner(V_f, 1, d_v, s_v, xmin, xmax, ymin, ymax, 1, res=res0)\n",
    "len(exp1_runner.res)"
   ]
  },
  {
   "cell_type": "code",
   "execution_count": 136,
   "metadata": {},
   "outputs": [
    {
     "name": "stdout",
     "output_type": "stream",
     "text": [
      "{'0 | -1 | 0': 'getRes;', '0 | 0 | -1': 'getRes;', '0 | 0 | 0': 'offPsi;'}\n",
      "{'0 | -1 | 500': 'getRes;', '0 | 0 | 500': 'offPsi;'}\n",
      "{'0 | -1 | 1000': 'getRes;', '0 | 0 | 1000': 'offPsi;'}\n",
      "{'0 | -1 | 1500': 'getRes;', '0 | 0 | 1500': 'offPsi;'}\n"
     ]
    },
    {
     "ename": "AssertionError",
     "evalue": "Fuck",
     "output_type": "error",
     "traceback": [
      "\u001b[0;31m---------------------------------------------------------------------------\u001b[0m",
      "\u001b[0;31mRemoteTraceback\u001b[0m                           Traceback (most recent call last)",
      "\u001b[0;31mRemoteTraceback\u001b[0m: \n\"\"\"\nTraceback (most recent call last):\n  File \"/opt/conda/lib/python3.6/multiprocessing/pool.py\", line 119, in worker\n    result = (True, func(*args, **kwds))\n  File \"/opt/conda/lib/python3.6/multiprocessing/pool.py\", line 44, in mapstar\n    return list(map(*args))\n  File \"<ipython-input-131-f8042511c983>\", line 103, in calcNextPsi\n    assert False, \"Fuck\"\nAssertionError: Fuck\n\"\"\"",
      "\nThe above exception was the direct cause of the following exception:\n",
      "\u001b[0;31mAssertionError\u001b[0m                            Traceback (most recent call last)",
      "\u001b[0;32m<ipython-input-136-4e18f0c2df0c>\u001b[0m in \u001b[0;36m<module>\u001b[0;34m()\u001b[0m\n\u001b[1;32m      7\u001b[0m     \u001b[0;32mfor\u001b[0m \u001b[0mxind\u001b[0m \u001b[0;32min\u001b[0m \u001b[0mrange\u001b[0m\u001b[0;34m(\u001b[0m\u001b[0;36m0\u001b[0m\u001b[0;34m,\u001b[0m \u001b[0;36m2000\u001b[0m\u001b[0;34m)\u001b[0m\u001b[0;34m:\u001b[0m\u001b[0;34m\u001b[0m\u001b[0m\n\u001b[1;32m      8\u001b[0m         \u001b[0mcurArgs\u001b[0m \u001b[0;34m=\u001b[0m \u001b[0mmap\u001b[0m\u001b[0;34m(\u001b[0m\u001b[0;32mlambda\u001b[0m \u001b[0myind\u001b[0m\u001b[0;34m:\u001b[0m \u001b[0;34m(\u001b[0m\u001b[0mxind\u001b[0m \u001b[0;34m*\u001b[0m \u001b[0md_v\u001b[0m \u001b[0;34m+\u001b[0m \u001b[0mxmin\u001b[0m\u001b[0;34m,\u001b[0m \u001b[0myind\u001b[0m \u001b[0;34m*\u001b[0m \u001b[0md_v\u001b[0m \u001b[0;34m+\u001b[0m \u001b[0mymin\u001b[0m\u001b[0;34m,\u001b[0m \u001b[0ms_v\u001b[0m \u001b[0;34m*\u001b[0m \u001b[0mtind\u001b[0m\u001b[0;34m)\u001b[0m\u001b[0;34m,\u001b[0m \u001b[0mrange\u001b[0m\u001b[0;34m(\u001b[0m\u001b[0;36m0\u001b[0m\u001b[0;34m,\u001b[0m \u001b[0;36m2000\u001b[0m\u001b[0;34m)\u001b[0m\u001b[0;34m)\u001b[0m\u001b[0;34m\u001b[0m\u001b[0m\n\u001b[0;32m----> 9\u001b[0;31m         \u001b[0mthreads\u001b[0m\u001b[0;34m.\u001b[0m\u001b[0mmap\u001b[0m\u001b[0;34m(\u001b[0m\u001b[0mexp1_runner\u001b[0m\u001b[0;34m.\u001b[0m\u001b[0mcalcNextPsi\u001b[0m\u001b[0;34m,\u001b[0m \u001b[0mcurArgs\u001b[0m\u001b[0;34m)\u001b[0m\u001b[0;34m\u001b[0m\u001b[0m\n\u001b[0m\u001b[1;32m     10\u001b[0m         \u001b[0;32massert\u001b[0m \u001b[0mnp\u001b[0m\u001b[0;34m.\u001b[0m\u001b[0many\u001b[0m\u001b[0;34m(\u001b[0m\u001b[0mexp1_runner\u001b[0m\u001b[0;34m.\u001b[0m\u001b[0mres\u001b[0m\u001b[0;34m[\u001b[0m\u001b[0mtind\u001b[0m\u001b[0;34m]\u001b[0m\u001b[0;34m)\u001b[0m\u001b[0;34m,\u001b[0m \u001b[0;34m\"Wave disappeared at index \"\u001b[0m\u001b[0;34m+\u001b[0m\u001b[0mstr\u001b[0m\u001b[0;34m(\u001b[0m\u001b[0mtind\u001b[0m\u001b[0;34m)\u001b[0m\u001b[0;34m\u001b[0m\u001b[0m\n\u001b[1;32m     11\u001b[0m     \u001b[0mprint\u001b[0m\u001b[0;34m(\u001b[0m\u001b[0;34m'Finished calcing for tind '\u001b[0m\u001b[0;34m+\u001b[0m\u001b[0mstr\u001b[0m\u001b[0;34m(\u001b[0m\u001b[0mtind\u001b[0m\u001b[0;34m)\u001b[0m\u001b[0;34m)\u001b[0m\u001b[0;34m\u001b[0m\u001b[0m\n",
      "\u001b[0;32m/opt/conda/lib/python3.6/multiprocessing/pool.py\u001b[0m in \u001b[0;36mmap\u001b[0;34m(self, func, iterable, chunksize)\u001b[0m\n\u001b[1;32m    264\u001b[0m         \u001b[0;32min\u001b[0m \u001b[0ma\u001b[0m \u001b[0mlist\u001b[0m \u001b[0mthat\u001b[0m \u001b[0;32mis\u001b[0m \u001b[0mreturned\u001b[0m\u001b[0;34m.\u001b[0m\u001b[0;34m\u001b[0m\u001b[0m\n\u001b[1;32m    265\u001b[0m         '''\n\u001b[0;32m--> 266\u001b[0;31m         \u001b[0;32mreturn\u001b[0m \u001b[0mself\u001b[0m\u001b[0;34m.\u001b[0m\u001b[0m_map_async\u001b[0m\u001b[0;34m(\u001b[0m\u001b[0mfunc\u001b[0m\u001b[0;34m,\u001b[0m \u001b[0miterable\u001b[0m\u001b[0;34m,\u001b[0m \u001b[0mmapstar\u001b[0m\u001b[0;34m,\u001b[0m \u001b[0mchunksize\u001b[0m\u001b[0;34m)\u001b[0m\u001b[0;34m.\u001b[0m\u001b[0mget\u001b[0m\u001b[0;34m(\u001b[0m\u001b[0;34m)\u001b[0m\u001b[0;34m\u001b[0m\u001b[0m\n\u001b[0m\u001b[1;32m    267\u001b[0m \u001b[0;34m\u001b[0m\u001b[0m\n\u001b[1;32m    268\u001b[0m     \u001b[0;32mdef\u001b[0m \u001b[0mstarmap\u001b[0m\u001b[0;34m(\u001b[0m\u001b[0mself\u001b[0m\u001b[0;34m,\u001b[0m \u001b[0mfunc\u001b[0m\u001b[0;34m,\u001b[0m \u001b[0miterable\u001b[0m\u001b[0;34m,\u001b[0m \u001b[0mchunksize\u001b[0m\u001b[0;34m=\u001b[0m\u001b[0;32mNone\u001b[0m\u001b[0;34m)\u001b[0m\u001b[0;34m:\u001b[0m\u001b[0;34m\u001b[0m\u001b[0m\n",
      "\u001b[0;32m/opt/conda/lib/python3.6/multiprocessing/pool.py\u001b[0m in \u001b[0;36mget\u001b[0;34m(self, timeout)\u001b[0m\n\u001b[1;32m    642\u001b[0m             \u001b[0;32mreturn\u001b[0m \u001b[0mself\u001b[0m\u001b[0;34m.\u001b[0m\u001b[0m_value\u001b[0m\u001b[0;34m\u001b[0m\u001b[0m\n\u001b[1;32m    643\u001b[0m         \u001b[0;32melse\u001b[0m\u001b[0;34m:\u001b[0m\u001b[0;34m\u001b[0m\u001b[0m\n\u001b[0;32m--> 644\u001b[0;31m             \u001b[0;32mraise\u001b[0m \u001b[0mself\u001b[0m\u001b[0;34m.\u001b[0m\u001b[0m_value\u001b[0m\u001b[0;34m\u001b[0m\u001b[0m\n\u001b[0m\u001b[1;32m    645\u001b[0m \u001b[0;34m\u001b[0m\u001b[0m\n\u001b[1;32m    646\u001b[0m     \u001b[0;32mdef\u001b[0m \u001b[0m_set\u001b[0m\u001b[0;34m(\u001b[0m\u001b[0mself\u001b[0m\u001b[0;34m,\u001b[0m \u001b[0mi\u001b[0m\u001b[0;34m,\u001b[0m \u001b[0mobj\u001b[0m\u001b[0;34m)\u001b[0m\u001b[0;34m:\u001b[0m\u001b[0;34m\u001b[0m\u001b[0m\n",
      "\u001b[0;31mAssertionError\u001b[0m: Fuck"
     ]
    }
   ],
   "source": [
    "import multiprocessing as parl\n",
    "\n",
    "threads = parl.Pool(processes=1)\n",
    "\n",
    "for tind in range(1, 10):\n",
    "    exp1_runner.makeBoard()\n",
    "    for xind in range(0, 2000):\n",
    "        curArgs = map(lambda yind: (xind * d_v + xmin, yind * d_v + ymin, s_v * tind), range(0, 2000))\n",
    "        threads.map(ewxp1_runner.calcNextPsi, curArgs)\n",
    "        assert np.any(exp1_runner.res[tind]), \"Wave disappeared at index \"+str(tind)\n",
    "    print('Finished calcing for tind '+str(tind))\n"
   ]
  }
 ],
 "metadata": {
  "kernelspec": {
   "display_name": "Python 3",
   "language": "python",
   "name": "python3"
  },
  "language_info": {
   "codemirror_mode": {
    "name": "ipython",
    "version": 3
   },
   "file_extension": ".py",
   "mimetype": "text/x-python",
   "name": "python",
   "nbconvert_exporter": "python",
   "pygments_lexer": "ipython3",
   "version": "3.6.5"
  }
 },
 "nbformat": 4,
 "nbformat_minor": 2
}
